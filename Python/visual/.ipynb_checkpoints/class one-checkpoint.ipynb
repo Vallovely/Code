{
 "cells": [
  {
   "cell_type": "code",
   "execution_count": 1,
   "id": "830dac4e-58bc-425d-a4ce-6892b7452c1b",
   "metadata": {},
   "outputs": [
    {
     "name": "stdout",
     "output_type": "stream",
     "text": [
      "333\n",
      "309\n",
      "3852\n",
      "26.75\n"
     ]
    }
   ],
   "source": [
    "\"\"\"\n",
    "使用变量保存数据并进行加减乘除运算\n",
    "\"\"\"\n",
    "a = 321\n",
    "b = 12\n",
    "print(a + b)    # 333\n",
    "print(a - b)    # 309\n",
    "print(a * b)    # 3852\n",
    "print(a / b)    # 26.75"
   ]
  },
  {
   "cell_type": "code",
   "execution_count": 2,
   "id": "3bd404f3-ec1d-42db-8dbe-2a8da3ca9388",
   "metadata": {},
   "outputs": [
    {
     "name": "stdout",
     "output_type": "stream",
     "text": [
      "<class 'int'>\n",
      "<class 'float'>\n",
      "<class 'str'>\n",
      "<class 'bool'>\n"
     ]
    }
   ],
   "source": [
    "\"\"\"\n",
    "使用type()查看变量的类型\n",
    "\"\"\"\n",
    "a = 100\n",
    "b = 12.345\n",
    "c = 'hello, world'\n",
    "d = True\n",
    "print(type(a))    # <class 'int'>\n",
    "print(type(b))    # <class 'float'>\n",
    "print(type(c))    # <class 'str'>\n",
    "print(type(d))    # <class 'bool'>\n"
   ]
  },
  {
   "cell_type": "code",
   "execution_count": 4,
   "id": "1dcca706-cb3d-4e91-96db-ebe5083c667b",
   "metadata": {},
   "outputs": [
    {
     "name": "stdout",
     "output_type": "stream",
     "text": [
      "a\n",
      "b\n",
      "c\n",
      "d\n"
     ]
    }
   ],
   "source": [
    "\"\"\"\n",
    "下标的使用\n",
    "\"\"\"\n",
    "name=\"abcd\"\n",
    "\n",
    "print(name[0])\n",
    "print(name[1])\n",
    "print(name[2])\n",
    "print(name[3])\n"
   ]
  },
  {
   "cell_type": "code",
   "execution_count": 20,
   "id": "9e02584e-4824-4983-8e79-9eba69d2b278",
   "metadata": {},
   "outputs": [
    {
     "name": "stdout",
     "output_type": "stream",
     "text": [
      "abcde\n"
     ]
    }
   ],
   "source": [
    "\"\"\"\n",
    "切片的使用\n",
    "当有一个冒号时，所有数字均是索引值\n",
    "当有两个冒号时，若第二个冒号后是步长\n",
    " a  b  c  d  e  f\n",
    " 0  1  2  3  4  5\n",
    "-6 -5 -4 -3 -2 -1\n",
    "\"\"\"\n",
    "name = \"abcdef\"\n",
    "print(name[-6:-1:1])"
   ]
  },
  {
   "cell_type": "code",
   "execution_count": 21,
   "id": "17102e2b-79ac-4f71-bb0e-575b8186a697",
   "metadata": {},
   "outputs": [
    {
     "name": "stdout",
     "output_type": "stream",
     "text": [
      "a =  5\n",
      "b =  6\n"
     ]
    },
    {
     "name": "stdout",
     "output_type": "stream",
     "text": [
      "5 + 6 = 11\n",
      "5 - 6 = -1\n",
      "5 * 6 = 30\n",
      "5 / 6 = 0.833333\n",
      "5 // 6 = 0\n",
      "5 % 6 = 5\n",
      "5 ** 6 = 15625\n"
     ]
    }
   ],
   "source": [
    "\"\"\"\n",
    "运算符和占位符的使用\n",
    "\"\"\"\n",
    "a = int(input('a = '))\n",
    "b = int(input('b = '))\n",
    "print('%d + %d = %d' % (a, b, a + b))\n",
    "print('%d - %d = %d' % (a, b, a - b))\n",
    "print('%d * %d = %d' % (a, b, a * b))\n",
    "print('%d / %d = %f' % (a, b, a / b))\n",
    "print('%d // %d = %d' % (a, b, a // b))\n",
    "print('%d %% %d = %d' % (a, b, a % b))\n",
    "print('%d ** %d = %d' % (a, b, a ** b))"
   ]
  },
  {
   "cell_type": "code",
   "execution_count": 23,
   "id": "a5ffbdca-8743-4fd7-8fc3-ef44a2110481",
   "metadata": {},
   "outputs": [
    {
     "name": "stdout",
     "output_type": "stream",
     "text": [
      "请输入华氏温度:  100\n"
     ]
    },
    {
     "name": "stdout",
     "output_type": "stream",
     "text": [
      "100.0000000000华氏度 = 37.7777777778摄氏度\n"
     ]
    }
   ],
   "source": [
    "\"\"\"\n",
    "练习1：华氏温度转换为摄氏温度\n",
    "提示：华氏温度到摄氏温度的转换公式为：c=(f-32)÷1.8\n",
    "\"\"\"\n",
    "f = float(input('请输入华氏温度: '))\n",
    "c = (f - 32) / 1.8\n",
    "print('%.10f华氏度 = %.10f摄氏度' % (f, c))"
   ]
  },
  {
   "cell_type": "code",
   "execution_count": 14,
   "id": "fdff3201-7711-46d8-8a24-6127d93f4aa2",
   "metadata": {},
   "outputs": [
    {
     "name": "stdout",
     "output_type": "stream",
     "text": [
      "请输入数字 1.00\n"
     ]
    },
    {
     "name": "stdout",
     "output_type": "stream",
     "text": [
      "f_1(1.00)=3.00\n",
      "f_2(1.00)=3.00\n",
      "f(1.00)=3.00\n"
     ]
    }
   ],
   "source": [
    "\"\"\"\n",
    "class1 测试\n",
    "\"\"\"\n",
    "def f_1(x):\n",
    "    if x>1:\n",
    "        result=3*x-5\n",
    "    elif x < -1:\n",
    "        result=5*x+3  \n",
    "    else:  \n",
    "        result=x+2\n",
    "    print('f_1(%.2f)=%.2f' % (x,result))\n",
    "    return\n",
    "def f_2(x):\n",
    "    if x>=-1:\n",
    "        if x>1:\n",
    "            result=3*x-5\n",
    "        else:\n",
    "            result=x+2\n",
    "    else:\n",
    "        result=5*x+3\n",
    "    print('f_2(%.2f)=%.2f' % (x,result))\n",
    "    return\n",
    "f=lambda x:3*x-5 if x>1 else (x+2 if x>=-1 else 5*x+3)\n",
    "x1 = float(input(\"请输入数字\"))\n",
    "f_1(x1)\n",
    "f_2(x1)\n",
    "print('f(%.2f)=%.2f' %(x1,f(x1)))"
   ]
  },
  {
   "cell_type": "code",
   "execution_count": null,
   "id": "1a46b139-fe12-4163-b015-d445dae71a59",
   "metadata": {},
   "outputs": [
    {
     "name": "stdout",
     "output_type": "stream",
     "text": [
      "半径为5.00的圆的周长为31.416，面积为78.540\n"
     ]
    }
   ],
   "source": [
    "\"\"\"\n",
    "练习2:输入半径计算圆的周长和面积\n",
    "\"\"\"\n",
    "r=float(input('请输入半径'))\n",
    "pi=3.1415926535\n",
    "print('半径为%.2f的圆的周长为%.3f，面积为%.3f'%(r,r*pi*2,pi*(r**2)))"
   ]
  },
  {
   "cell_type": "code",
   "execution_count": 9,
   "id": "dec33158-8c1e-4096-a975-749cb95f0c21",
   "metadata": {},
   "outputs": [
    {
     "name": "stdout",
     "output_type": "stream",
     "text": [
      "请输入年份:  1900\n"
     ]
    },
    {
     "name": "stdout",
     "output_type": "stream",
     "text": [
      "False\n",
      "False\n"
     ]
    }
   ],
   "source": [
    "\"\"\"\n",
    "练习3:输入年份判断是否是闰年\n",
    "\"\"\"\n",
    "year = int(input('请输入年份: '))\n",
    "is_leap = year % 4 == 0 and year % 100 != 0 or year % 400 == 0\n",
    "is_leap_lambda = lambda year:True if (year % 4 == 0 and year % 100 != 0 or year % 400 == 0) else (False)\n",
    "print(is_leap)\n",
    "print(is_leap_lambda(year))"
   ]
  },
  {
   "cell_type": "code",
   "execution_count": 13,
   "id": "bca1d37d-b5d0-4797-a87f-d888db988318",
   "metadata": {},
   "outputs": [
    {
     "name": "stdout",
     "output_type": "stream",
     "text": [
      "三个整数，以空格分隔: 5 6 7\n"
     ]
    },
    {
     "name": "stdout",
     "output_type": "stream",
     "text": [
      "以5,6,7为边长的三角形的周长为:18\n",
      "以5,6,7为边长的三角形的周长为:14.697\n"
     ]
    }
   ],
   "source": [
    "\"\"\"\n",
    "练习4:判断输入的边长能否构成三角形，如果能则计算出三角形的周长和面积\n",
    "\"\"\"\n",
    "a,b,c = map(int,input(\"三个整数，以空格分隔:\").split())\n",
    "\"\"\"\n",
    "map(int,str)将列表中的字符串元素转为整数\n",
    "str.split()将字符串以空格分隔为一个列表\n",
    "\"\"\"\n",
    "if a+b>c and a+c>b and b+c>a:\n",
    "    p=(a+b+c)/2\n",
    "    print('以%d,%d,%d为边长的三角形的周长为:%d'%(a,b,c,a+b+c))\n",
    "    print('以%d,%d,%d为边长的三角形的周长为:%.3f'%(a,b,c,(p*(p-a)*(p-b)*(p-c))**0.5))\n",
    "else:\n",
    "    print('不能构成三角形')"
   ]
  },
  {
   "cell_type": "code",
   "execution_count": 21,
   "id": "aea79c0a-d702-40cf-a4bc-6f4d588c30cd",
   "metadata": {},
   "outputs": [
    {
     "name": "stdout",
     "output_type": "stream",
     "text": [
      "5050\n"
     ]
    }
   ],
   "source": [
    "\"\"\"\n",
    "如果明确知道循环执行的次数，推荐使用for-in循环。\n",
    "\n",
    "例下面代码中计算1~100求和的结果\n",
    "\n",
    "用for循环实现1~100求和\n",
    "\"\"\"\n",
    "sum = 0\n",
    "for x in range(1,101): #左闭右开区间\n",
    "    \"\"\"\n",
    "    range(101)：可以用来产生0到100范围的整数，需要注意的是取不到101。\n",
    "    range(1, 101)：可以用来产生1到100范围的整数，相当于左闭右开区间。\n",
    "    range(1, 101, 2)：可以用来产生1到100的奇数，其中2是步长，即每次数值递增的值。\n",
    "    range(100, 0, -2)：可以用来产生100到1的偶数，其中-2是步长，即每次数字递减的值。\n",
    "    \"\"\"\n",
    "    sum += x  # sum加上x后再赋值给sum\n",
    "print(sum)"
   ]
  },
  {
   "cell_type": "code",
   "execution_count": 20,
   "id": "2dd442fb-274f-4dd8-ba7b-792f8e5e3c1b",
   "metadata": {},
   "outputs": [
    {
     "name": "stdout",
     "output_type": "stream",
     "text": [
      "请输入:  50\n"
     ]
    },
    {
     "name": "stdout",
     "output_type": "stream",
     "text": [
      "大一点\n"
     ]
    },
    {
     "name": "stdout",
     "output_type": "stream",
     "text": [
      "请输入:  75\n"
     ]
    },
    {
     "name": "stdout",
     "output_type": "stream",
     "text": [
      "小一点\n"
     ]
    },
    {
     "name": "stdout",
     "output_type": "stream",
     "text": [
      "请输入:  62\n"
     ]
    },
    {
     "name": "stdout",
     "output_type": "stream",
     "text": [
      "小一点\n"
     ]
    },
    {
     "name": "stdout",
     "output_type": "stream",
     "text": [
      "请输入:  56\n"
     ]
    },
    {
     "name": "stdout",
     "output_type": "stream",
     "text": [
      "大一点\n"
     ]
    },
    {
     "name": "stdout",
     "output_type": "stream",
     "text": [
      "请输入:  60\n"
     ]
    },
    {
     "name": "stdout",
     "output_type": "stream",
     "text": [
      "大一点\n"
     ]
    },
    {
     "name": "stdout",
     "output_type": "stream",
     "text": [
      "请输入:  61\n"
     ]
    },
    {
     "name": "stdout",
     "output_type": "stream",
     "text": [
      "恭喜你猜对了!\n",
      "你总共猜了6次\n"
     ]
    }
   ],
   "source": [
    "\"\"\"\n",
    "猜数字游戏\n",
    "\"\"\"\n",
    "import random  \n",
    "#python中用于生成随机数的函数库\n",
    "#import random as rd\n",
    "#from random import randint\n",
    "answer = random.randint(1, 100)   #左右均闭区间\n",
    "counter = 0\n",
    "while True:\n",
    "    counter += 1\n",
    "    number = int(input('请输入: '))\n",
    "    if number < answer:\n",
    "        print('大一点')\n",
    "    elif number > answer:\n",
    "        print('小一点')\n",
    "    else:\n",
    "        print('恭喜你猜对了!')\n",
    "        break            #跳出整个循环\n",
    "print('你总共猜了%d次' % counter)\n",
    "if counter > 7:\n",
    "    print('你的智商余额明显不足')"
   ]
  },
  {
   "cell_type": "code",
   "execution_count": 22,
   "id": "c73cde0a-f519-42ef-9366-8b56ac331b86",
   "metadata": {},
   "outputs": [
    {
     "name": "stdout",
     "output_type": "stream",
     "text": [
      "153\n",
      "370\n",
      "371\n",
      "407\n"
     ]
    }
   ],
   "source": [
    "\"\"\"\n",
    "在学习了Python的核心语言元素（变量、类型、运算符、表达式、分支结构、循环结构等）之后\n",
    "必须做的一件事情就是尝试用所学知识去解决现实中的问题。\n",
    "\"\"\"\n",
    "\"\"\"\n",
    "找出所有水仙花数\n",
    "\"\"\"\n",
    "for num in range(100, 1000): #左闭右开保证3位数\n",
    "    low = num % 10        #  除10后取余数\n",
    "    mid = num // 10 % 10 # 除10取整数再除10取余数\n",
    "    high = num // 100 #  除100后取整数\n",
    "    if num == low ** 3 + mid ** 3 + high ** 3:\n",
    "        print(num)"
   ]
  },
  {
   "cell_type": "code",
   "execution_count": null,
   "id": "40509a06-deb0-4d53-ae0f-55e80945f5cb",
   "metadata": {},
   "outputs": [],
   "source": [
    "\"\"\"\n",
    "正整数的反转\n",
    "\"\"\"\n",
    "num = int(input('num = '))\n",
    "reversed_num = 0\n",
    "while num > 0:\n",
    "    reversed_num = reversed_num * 10 + num % 10 \n",
    "       #小于10的数取余返回值为它本身\n",
    "    num //= 10  \n",
    "        #一个数除以10后取整，再赋值给原数变量\n",
    "        #小于10的数取整为0\n",
    "print(reversed_num)"
   ]
  },
  {
   "cell_type": "code",
   "execution_count": 24,
   "id": "1095f8ff-201f-4431-8ac9-0f463018f34d",
   "metadata": {},
   "outputs": [
    {
     "name": "stdout",
     "output_type": "stream",
     "text": [
      "公鸡: 0只, 母鸡: 25只, 小鸡: 75只\n",
      "公鸡: 4只, 母鸡: 18只, 小鸡: 78只\n",
      "公鸡: 8只, 母鸡: 11只, 小鸡: 81只\n",
      "公鸡: 12只, 母鸡: 4只, 小鸡: 84只\n"
     ]
    }
   ],
   "source": [
    "\"\"\"\n",
    "百鸡百钱\n",
    "\"\"\"\n",
    "for x in range(0,20):\n",
    "    for y in range(0,34):\n",
    "        z=100-x-y\n",
    "        if 5*x+3*y+z/3==100:\n",
    "            print('公鸡: %d只, 母鸡: %d只, 小鸡: %d只' % (x, y, z))"
   ]
  },
  {
   "cell_type": "code",
   "execution_count": null,
   "id": "7164a5c9-8b82-4d98-80da-faff2a3dc67f",
   "metadata": {},
   "outputs": [],
   "source": [
    "\"\"\"\n",
    "说明：CRAPS又称花旗骰，是美国拉斯维加斯非常受欢迎的一种的桌上赌博游戏。\n",
    "该游戏使用两粒骰子，玩家通过摇两粒骰子获得点数进行游戏。\n",
    "简单的规则是：\n",
    "玩家第一次摇骰子如果摇出了7点或11点，玩家胜(if)；玩家如果摇出2点、3点或12点，庄家胜(elif)；\n",
    "其他点数(else)玩家继续摇骰子，如果玩家摇出了7点，庄家胜；\n",
    "如果玩家摇出了第一次摇的点数，玩家胜；其他点数玩家继续要骰子(while)，直到分出胜负。\n",
    "\"\"\"\n",
    "from random import randint\n",
    "money = 1000\n",
    "while money > 0:                                                   #控制下赌注次数\n",
    "    print('你的总资产为:', money)\n",
    "    while True:                                                       #判断下赌注金额是否合理\n",
    "        debt = int(input('请下注: '))\n",
    "        if 0 < debt <= money:\n",
    "            break\n",
    "    first = randint(1, 6) + randint(1, 6)               #产生随机数，开始第一次摇骰子\n",
    "    print('玩家摇出了%d点' % first)\n",
    "    if first == 7 or first == 11:\n",
    "        print('玩家胜!')\n",
    "        money += debt\n",
    "    elif first == 2 or first == 3 or first == 12:\n",
    "        print('庄家胜!')\n",
    "        money -= debt\n",
    "    else:\n",
    "        needs_go_on = True\n",
    "        while needs_go_on:                                     #开始while循环，可以进行多次，直到分出胜负\n",
    "            needs_go_on = False\n",
    "            current = randint(1, 6) + randint(1, 6)\n",
    "            print('玩家摇出了%d点' % current)\n",
    "            if current == 7:\n",
    "                print('庄家胜')\n",
    "                money -= debt\n",
    "            elif current == first:\n",
    "                print('玩家胜')\n",
    "                money += debt\n",
    "            else:\n",
    "                needs_go_on = True\n",
    "print('你破产了, 完蛋!')\n"
   ]
  },
  {
   "cell_type": "code",
   "execution_count": null,
   "id": "0a49fb9c-ba88-4dbb-8138-6e15f637049f",
   "metadata": {},
   "outputs": [],
   "source": [
    "\"\"\"\n",
    "第二讲 数据的准备\n",
    "获取 质量分析 预处理 \n",
    "\"\"\"\n",
    "#\n",
    "#\n",
    "#预处理 数据清洗 数据归约 数据集成 数据变换\n",
    "\"\"\"\n",
    "#数据清洗\n",
    "缺失值/异常值 \n",
    "均值插补 众数插补 中位数插补(离群值) 固定值 最邻近插补(时序特点) 回归方法(找寻与其他变量的关系) 插值法（线性，多项式）\n",
    "\n",
    "#数据集成\n",
    "内接 行交列并\n",
    "外接 行列均并\n",
    "\n",
    "#数据规约\n",
    "属性选择\n",
    "样本选择\n",
    "\n",
    "#数据变换\n",
    "1)数据标准化\n",
    "0-1标准化 Z-score标准化\n",
    "2)变量离散化[回归问题→分类问题]\n",
    "3)语义转换[男女→10]\n",
    "\"\"\"\n",
    "#"
   ]
  },
  {
   "cell_type": "code",
   "execution_count": null,
   "id": "1660e144-d3f3-4f54-8124-d8df81dc2434",
   "metadata": {},
   "outputs": [],
   "source": [
    "!pip list"
   ]
  },
  {
   "cell_type": "code",
   "execution_count": null,
   "id": "bfd161b1-96cd-4b6d-a477-e9dde4cd8947",
   "metadata": {
    "scrolled": true
   },
   "outputs": [],
   "source": [
    "from sklearn.datasets import load_iris#导入iris数据集\n",
    "from sklearn.preprocessing import MinMaxScaler\n",
    "from sklearn.preprocessing import Binarizer\n",
    "from numpy import vstack, array, nan\n",
    "from sklearn.impute import KNNImputer\n",
    "imp=KNNImputer()\n",
    "iris = load_iris()\n",
    "bi_data=Binarizer(threshold=3).fit_transform(iris.data)\n",
    "std_data=MinMaxScaler().fit_transform(iris.data)\n",
    "#print(iris.data,type(iris.data))#查看特征矩阵 花瓣和花萼长宽\n",
    "print(bi_data)#二值化后的矩阵\n",
    "#print(std_data)#标准化后的矩阵\n",
    "#print(iris.target)#查看目标向量 类别语义转换位类型 \n",
    "temp = vstack((bi_data, array([nan, nan, nan, nan])))\n",
    "print(temp)\n",
    "imp.fit_transform(temp)"
   ]
  },
  {
   "cell_type": "code",
   "execution_count": 8,
   "id": "41d4ccd0-c9b6-4592-b74f-e52ac5f33395",
   "metadata": {},
   "outputs": [],
   "source": [
    "import pandas\n",
    "users=pandas.read_csv(\"train_users.csv\")"
   ]
  },
  {
   "cell_type": "code",
   "execution_count": null,
   "id": "9b6b9aba-5078-4e39-9d49-5897cc048d45",
   "metadata": {},
   "outputs": [],
   "source": [
    "users.head(4)"
   ]
  },
  {
   "cell_type": "code",
   "execution_count": null,
   "id": "bb357bf2-5eae-47d2-b3e7-24afa42d7975",
   "metadata": {},
   "outputs": [],
   "source": [
    "users.tail()"
   ]
  },
  {
   "cell_type": "code",
   "execution_count": null,
   "id": "8c4ae42c-4632-4d11-aa57-ba7184542827",
   "metadata": {},
   "outputs": [],
   "source": [
    "user.describe()"
   ]
  },
  {
   "cell_type": "code",
   "execution_count": null,
   "id": "504000e7-9497-44d6-8228-2aa13dbf6ed2",
   "metadata": {
    "scrolled": true
   },
   "outputs": [],
   "source": [
    "users.shape"
   ]
  },
  {
   "cell_type": "code",
   "execution_count": null,
   "id": "cada5f2b-3d9f-41ec-baf5-f3d93f64cc9a",
   "metadata": {},
   "outputs": [],
   "source": [
    "users.loc[0:3,'age'] #.loc[:]是左闭右闭"
   ]
  },
  {
   "cell_type": "code",
   "execution_count": null,
   "id": "5001b270-c714-4d66-9c89-d9d8f8638750",
   "metadata": {},
   "outputs": [],
   "source": [
    "users['id']"
   ]
  },
  {
   "cell_type": "code",
   "execution_count": null,
   "id": "3a689ff4-929e-47d3-8f08-5444dbb8c418",
   "metadata": {},
   "outputs": [],
   "source": [
    "users['age']"
   ]
  },
  {
   "cell_type": "code",
   "execution_count": null,
   "id": "9d02e836-5b09-4af6-8682-9835efa94540",
   "metadata": {},
   "outputs": [],
   "source": [
    "df=users['age'].dropna()\n",
    "print(df.head(10))"
   ]
  },
  {
   "cell_type": "code",
   "execution_count": null,
   "id": "e16b156f-ec32-4fee-9e8b-929ab39b3ded",
   "metadata": {},
   "outputs": [],
   "source": [
    "df=users['age'].dropna().reset_index()\n",
    "print(df.head(10))"
   ]
  },
  {
   "cell_type": "code",
   "execution_count": null,
   "id": "d60881a8-62da-4cc1-af25-588a48b3453a",
   "metadata": {},
   "outputs": [],
   "source": [
    "df=users['age'].dropna().reset_index(drop=True)\n",
    "print(df.head(10))"
   ]
  },
  {
   "cell_type": "code",
   "execution_count": null,
   "id": "ede3046f-85ad-4e8b-a9d2-87c67608cbb8",
   "metadata": {},
   "outputs": [],
   "source": []
  }
 ],
 "metadata": {
  "kernelspec": {
   "display_name": "Python 3 (ipykernel)",
   "language": "python",
   "name": "python3"
  },
  "language_info": {
   "codemirror_mode": {
    "name": "ipython",
    "version": 3
   },
   "file_extension": ".py",
   "mimetype": "text/x-python",
   "name": "python",
   "nbconvert_exporter": "python",
   "pygments_lexer": "ipython3",
   "version": "3.13.2"
  }
 },
 "nbformat": 4,
 "nbformat_minor": 5
}
