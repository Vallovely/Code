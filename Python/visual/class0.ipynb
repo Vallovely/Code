{
 "cells": [
  {
   "cell_type": "code",
   "execution_count": null,
   "id": "535317aa-453e-4303-8fd2-a4213799c90f",
   "metadata": {},
   "outputs": [],
   "source": [
    "a=100\n",
    "b=2\n",
    "print(a+b)"
   ]
  },
  {
   "cell_type": "markdown",
   "id": "36ea30e4-c4b4-42fa-b7d8-826f9f40cd51",
   "metadata": {},
   "source": [
    "你好你坏"
   ]
  },
  {
   "cell_type": "markdown",
   "id": "38651e23-b9d9-4218-84f2-e9b70a6587b4",
   "metadata": {},
   "source": [
    "你坏你好"
   ]
  },
  {
   "cell_type": "code",
   "execution_count": 10,
   "id": "0206b3d4-bb3e-48e1-b139-efc6f5c00e80",
   "metadata": {},
   "outputs": [
    {
     "name": "stdout",
     "output_type": "stream",
     "text": [
      "10000000000000000000000000000000000000200000000000000000000000000000000000001 qwqwqwq qwqwqaaaa <class 'int'> <class 'str'> <class 'str'>\n",
      "3 False\n"
     ]
    }
   ],
   "source": [
    "a=100000000000000000000000000000000000001\n",
    "b='qwqwqwq'\n",
    "this_Test=\"qwqwqaaaa\"\n",
    "print(a*a,b,this_Test,type(a),type(b),type(this_Test))\n",
    "print((a==a)+2,a==b)"
   ]
  },
  {
   "cell_type": "markdown",
   "id": "ee71375f-4d8b-4c7d-b4a1-963125bbce6c",
   "metadata": {},
   "source": [
    "字符串内置操作\n",
    ".capitalize() //首字母大写输出\n",
    ".replace(x,y) //用y替代x\n",
    ".find(x,5) //返回从第5个索引的位置开始正查找的第一个x的索引"
   ]
  },
  {
   "cell_type": "code",
   "execution_count": 25,
   "id": "13f997ed-b2e3-49a4-b96b-04e5cf4d02cd",
   "metadata": {},
   "outputs": [
    {
     "name": "stdout",
     "output_type": "stream",
     "text": [
      "Py六百六十六hon\n",
      "yth\n"
     ]
    }
   ],
   "source": [
    "x1='python'\n",
    "print(x1.capitalize().replace('t','六百六十六'))\n",
    "print(x1[-5:-2])"
   ]
  },
  {
   "cell_type": "code",
   "execution_count": 24,
   "id": "2906fa38-420a-4d50-b04d-66686b06e591",
   "metadata": {},
   "outputs": [
    {
     "name": "stdout",
     "output_type": "stream",
     "text": [
      "11\n"
     ]
    }
   ],
   "source": [
    "x2='hello everyone'\n",
    "print(x2.find('o',5))"
   ]
  },
  {
   "cell_type": "markdown",
   "id": "83c8367c-9cc5-4838-9d43-7ba711b75a1d",
   "metadata": {},
   "source": [
    "常用运算符\n",
    "[] \n",
    "[:]切片\n",
    "** + - * / % \n",
    "//取整\n",
    "is is not//身份运算符\n",
    "in not in//成员运算符"
   ]
  },
  {
   "cell_type": "code",
   "execution_count": null,
   "id": "10435b88-9865-488e-8ab0-b2655b01a408",
   "metadata": {},
   "outputs": [],
   "source": [
    "#数据结构"
   ]
  },
  {
   "cell_type": "code",
   "execution_count": null,
   "id": "6c1393dd-395f-415e-a2e6-f3a682d77a76",
   "metadata": {},
   "outputs": [],
   "source": [
    "#2.1列表\n",
    ".append()//在末尾加入一个元素\n",
    ".remove()//移除一个元素[需要x in list==true]\n",
    ".insert(x,y)//在x索引处插入y"
   ]
  },
  {
   "cell_type": "code",
   "execution_count": 20,
   "id": "54b40f03-c08d-48d7-a3fb-e2249968501c",
   "metadata": {},
   "outputs": [
    {
     "name": "stdout",
     "output_type": "stream",
     "text": [
      "[1, 2, 32, 3.14, 'hello', 2]\n"
     ]
    }
   ],
   "source": [
    "x1=[1,2,32,3.14,'hello']\n",
    "x1.append(2)\n",
    "#x1.remove(200) 非法的\n",
    "print(x1)"
   ]
  },
  {
   "cell_type": "markdown",
   "id": "83e5340f-f70b-4963-8658-fafff3fd272c",
   "metadata": {},
   "source": [
    "索引切片"
   ]
  },
  {
   "cell_type": "code",
   "execution_count": 27,
   "id": "b4e727e6-adae-4b90-9515-291d20317b50",
   "metadata": {},
   "outputs": [
    {
     "name": "stdout",
     "output_type": "stream",
     "text": [
      "yth\n"
     ]
    }
   ],
   "source": [
    "x1='python'\n",
    "print(x1[-5:-2])"
   ]
  },
  {
   "cell_type": "markdown",
   "id": "2a2e353b-6cb1-4918-8c70-c968871509c0",
   "metadata": {},
   "source": [
    "列表 np变数组"
   ]
  },
  {
   "cell_type": "code",
   "execution_count": 28,
   "id": "5b1cf2b5-ce68-4e45-b630-0e3438305a3f",
   "metadata": {},
   "outputs": [
    {
     "name": "stdout",
     "output_type": "stream",
     "text": [
      "[[1, 2, 1, 3], [3, 5, 7, 3]]\n",
      "<class 'list'>\n",
      "[[1 2 1 3]\n",
      " [3 5 7 3]]\n",
      "<class 'numpy.ndarray'>\n"
     ]
    }
   ],
   "source": [
    "import numpy as np\n",
    "a=[[1,2,1,3],[3,5,7,3]]\n",
    "b=np.array(a)\n",
    "print(a)\n",
    "print(type(a))\n",
    "print(b)\n",
    "print(type(b))"
   ]
  },
  {
   "cell_type": "markdown",
   "id": "60eda72f-31d1-4130-8ea7-8c759c4c4dde",
   "metadata": {},
   "source": [
    "2.2元组 只有一个元素时，需要在后面加逗号\n",
    "元组不能被修改"
   ]
  },
  {
   "cell_type": "code",
   "execution_count": 34,
   "id": "a431c2de-d7c5-4ae5-b452-9bd996705bd8",
   "metadata": {},
   "outputs": [
    {
     "name": "stdout",
     "output_type": "stream",
     "text": [
      "<class 'tuple'>\n",
      "<class 'int'>\n"
     ]
    }
   ],
   "source": [
    "x1=(1,)\n",
    "print(type(x1))\n",
    "x1=(1)\n",
    "print(type(x1))"
   ]
  },
  {
   "cell_type": "code",
   "execution_count": 32,
   "id": "fe327000-9b04-40d9-8280-d1030bd00d67",
   "metadata": {},
   "outputs": [
    {
     "name": "stdout",
     "output_type": "stream",
     "text": [
      "(1, 2, 3.14)\n",
      "hello\n",
      "(1, 2)\n"
     ]
    }
   ],
   "source": [
    "x3=((1,2,3.14),(100,200),[1,2,'hello'])\n",
    "print(x3[0])\n",
    "print(x3[2][2])#字符串输出无引号\n",
    "print(x3[0][0:2])#元组的切片仍然是元组"
   ]
  },
  {
   "cell_type": "markdown",
   "id": "0b4fb3dd-1dae-4ce5-a7c0-ba74360c6edd",
   "metadata": {},
   "source": [
    "2.3字典 {键:值}构成"
   ]
  },
  {
   "cell_type": "code",
   "execution_count": 40,
   "id": "7ae30ba0-0e9d-4841-9110-780b68841871",
   "metadata": {},
   "outputs": [
    {
     "name": "stdout",
     "output_type": "stream",
     "text": [
      "{'qwq': 22, 'aaa': 15}\n",
      "{'qwq': 22, 'aaa': 15, 'aaw': 222}\n",
      "{'aaa': 15, 'aaw': 222}\n"
     ]
    }
   ],
   "source": [
    "x={'qwq':22,'aaa':15}\n",
    "print(x)\n",
    "x['aaw']=222\n",
    "print(x)\n",
    "del x['qwq']\n",
    "print(x)"
   ]
  },
  {
   "cell_type": "markdown",
   "id": "01498386-b140-4dbb-8cd2-c094f1a6c7e7",
   "metadata": {},
   "source": [
    "2.4集合{元素} \n",
    "无序的 因此不可索引切片\n",
    "不可重复\n",
    "| .union\n",
    "& .intersection\n",
    "- .difference"
   ]
  },
  {
   "cell_type": "code",
   "execution_count": 10,
   "id": "fdf0f7a9-f629-4883-8d79-9a9c1175c3ce",
   "metadata": {},
   "outputs": [
    {
     "name": "stdout",
     "output_type": "stream",
     "text": [
      ">\n"
     ]
    }
   ],
   "source": [
    "#3.1条件语句\n",
    "#if\n",
    "x=10\n",
    "if x>0:\n",
    "    print('>')\n",
    "elif x==10:\n",
    "    print('=10')\n",
    "elif x==5:\n",
    "    print('<')\n",
    "else:\n",
    "    print('qwq')"
   ]
  },
  {
   "cell_type": "code",
   "execution_count": 17,
   "id": "a938e3ef-13e9-4e36-86dd-5fe6a48c4622",
   "metadata": {},
   "outputs": [
    {
     "name": "stdout",
     "output_type": "stream",
     "text": [
      "大于10\n"
     ]
    }
   ],
   "source": [
    "x=11\n",
    "if x>=10:\n",
    "    if x>10:\n",
    "        print('大于10')\n",
    "    else:\n",
    "        print('等于10')\n",
    "else:\n",
    "    print('小于10')"
   ]
  },
  {
   "cell_type": "code",
   "execution_count": 27,
   "id": "23f0eca9-601d-44da-a520-5c90568d8d1d",
   "metadata": {},
   "outputs": [
    {
     "name": "stdout",
     "output_type": "stream",
     "text": [
      "someone only says qwq online.\n",
      "someone only says awa online.\n",
      "someone only says qwqq online.\n",
      "finished!\n"
     ]
    }
   ],
   "source": [
    "#3.2for循环\n",
    "x1=['qwq','awa','qwqq']\n",
    "for 狗 in x1:\n",
    "    print('someone only says',狗,'online.')\n",
    "print('finished!')"
   ]
  },
  {
   "cell_type": "code",
   "execution_count": null,
   "id": "6fb1a167-0c22-47f5-8119-f36e84db15cb",
   "metadata": {},
   "outputs": [],
   "source": [
    "#3.3while循环"
   ]
  },
  {
   "cell_type": "code",
   "execution_count": 30,
   "id": "e4eeedf3-97e7-403c-9ca1-f0e01f813d69",
   "metadata": {},
   "outputs": [
    {
     "name": "stdout",
     "output_type": "stream",
     "text": [
      "数字 12\n"
     ]
    },
    {
     "name": "stdout",
     "output_type": "stream",
     "text": [
      "24.0\n"
     ]
    },
    {
     "data": {
      "text/plain": [
       "14.0"
      ]
     },
     "execution_count": 30,
     "metadata": {},
     "output_type": "execute_result"
    }
   ],
   "source": [
    "#4.1自定义函数\n",
    "x1=float(input('数字'))\n",
    "print(x1*2)\n",
    "def puls2(x):\n",
    "    return(x+2)\n",
    "puls2(x1)"
   ]
  },
  {
   "cell_type": "code",
   "execution_count": null,
   "id": "401e9d98-c7e3-4d75-8edc-c39a3d1d68bb",
   "metadata": {},
   "outputs": [],
   "source": [
    "#4.2匿名函数\n",
    "#4.3数学函数"
   ]
  }
 ],
 "metadata": {
  "kernelspec": {
   "display_name": "Python 3 (ipykernel)",
   "language": "python",
   "name": "python3"
  },
  "language_info": {
   "codemirror_mode": {
    "name": "ipython",
    "version": 3
   },
   "file_extension": ".py",
   "mimetype": "text/x-python",
   "name": "python",
   "nbconvert_exporter": "python",
   "pygments_lexer": "ipython3",
   "version": "3.13.2"
  }
 },
 "nbformat": 4,
 "nbformat_minor": 5
}
