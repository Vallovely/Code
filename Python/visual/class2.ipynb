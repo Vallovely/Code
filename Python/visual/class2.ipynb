{
 "cells": [
  {
   "cell_type": "code",
   "execution_count": null,
   "id": "d5e74bd9",
   "metadata": {},
   "outputs": [],
   "source": [
    "\"\"\"\n",
    "第二讲 数据的准备\n",
    "获取 质量分析 预处理 \n",
    "\"\"\"\n",
    "#\n",
    "#\n",
    "#预处理 数据清洗 数据归约 数据集成 数据变换\n",
    "\"\"\"\n",
    "#数据清洗\n",
    "缺失值/异常值 \n",
    "均值插补 众数插补 中位数插补(离群值) 固定值 最邻近插补(时序特点) 回归方法(找寻与其他变量的关系) 插值法（线性，多项式）\n",
    "\n",
    "#数据集成\n",
    "内接 行交列并\n",
    "外接 行列均并\n",
    "\n",
    "#数据规约\n",
    "属性选择\n",
    "样本选择\n",
    "\n",
    "#数据变换\n",
    "1)数据标准化\n",
    "0-1标准化 Z-score标准化\n",
    "2)变量离散化[回归问题→分类问题]\n",
    "3)语义转换[男女→10]\n",
    "\"\"\"\n",
    "#"
   ]
  },
  {
   "cell_type": "code",
   "execution_count": null,
   "id": "976553bd",
   "metadata": {},
   "outputs": [],
   "source": [
    "!pip list"
   ]
  },
  {
   "cell_type": "code",
   "execution_count": null,
   "id": "d4569930",
   "metadata": {},
   "outputs": [],
   "source": [
    "from sklearn.datasets import load_iris#导入iris数据集\n",
    "from sklearn.preprocessing import MinMaxScaler\n",
    "from sklearn.preprocessing import Binarizer\n",
    "from numpy import vstack, array, nan\n",
    "from sklearn.impute import KNNImputer\n",
    "imp=KNNImputer()\n",
    "iris = load_iris()\n",
    "bi_data=Binarizer(threshold=3).fit_transform(iris.data)\n",
    "std_data=MinMaxScaler().fit_transform(iris.data)\n",
    "#print(iris.data,type(iris.data))#查看特征矩阵 花瓣和花萼长宽\n",
    "print(bi_data)#二值化后的矩阵\n",
    "#print(std_data)#标准化后的矩阵\n",
    "#print(iris.target)#查看目标向量 类别语义转换位类型 \n",
    "temp = vstack((bi_data, array([nan, nan, nan, nan])))\n",
    "print(temp)\n",
    "imp.fit_transform(temp)"
   ]
  },
  {
   "cell_type": "code",
   "execution_count": null,
   "id": "ac0d8342",
   "metadata": {},
   "outputs": [],
   "source": [
    "import pandas\n",
    "users=pandas.read_csv(\"train_users.csv\")"
   ]
  },
  {
   "cell_type": "code",
   "execution_count": null,
   "id": "2ea2eb66",
   "metadata": {},
   "outputs": [
    {
     "ename": "NameError",
     "evalue": "name 'users' is not defined",
     "output_type": "error",
     "traceback": [
      "\u001b[31m---------------------------------------------------------------------------\u001b[39m\n",
      "\u001b[31mNameError\u001b[39m                                 Traceback (most recent call last)\n",
      "\u001b[36mCell\u001b[39m\u001b[36m \u001b[39m\u001b[32mIn[1]\u001b[39m\u001b[32m, line 1\u001b[39m\n",
      "\u001b[32m----> \u001b[39m\u001b[32m1\u001b[39m \u001b[43musers\u001b[49m.head(\u001b[32m4\u001b[39m)\n",
      "\n",
      "\u001b[31mNameError\u001b[39m: name 'users' is not defined"
     ]
    }
   ],
   "source": [
    "users.head(4)"
   ]
  },
  {
   "cell_type": "code",
   "execution_count": null,
   "id": "7395f6d6",
   "metadata": {},
   "outputs": [],
   "source": [
    "users.tail()"
   ]
  },
  {
   "cell_type": "code",
   "execution_count": null,
   "id": "3d161740",
   "metadata": {},
   "outputs": [],
   "source": [
    "users.describe()"
   ]
  },
  {
   "cell_type": "code",
   "execution_count": null,
   "id": "9def64db",
   "metadata": {},
   "outputs": [],
   "source": [
    "users.shape"
   ]
  },
  {
   "cell_type": "code",
   "execution_count": null,
   "id": "dc010a97",
   "metadata": {},
   "outputs": [],
   "source": [
    "users.loc[0:3,'age'] #.loc[:]是左闭右闭"
   ]
  },
  {
   "cell_type": "code",
   "execution_count": null,
   "id": "8c08a86b",
   "metadata": {},
   "outputs": [],
   "source": [
    "users['id']"
   ]
  },
  {
   "cell_type": "code",
   "execution_count": null,
   "id": "d99c2b52",
   "metadata": {},
   "outputs": [],
   "source": [
    "users['age']"
   ]
  },
  {
   "cell_type": "code",
   "execution_count": null,
   "id": "ce514a33",
   "metadata": {},
   "outputs": [],
   "source": [
    "df=users['age'].dropna()\n",
    "print(df.head(10))"
   ]
  },
  {
   "cell_type": "code",
   "execution_count": null,
   "id": "7d0dff93",
   "metadata": {},
   "outputs": [],
   "source": [
    "df=users['age'].dropna().reset_index()\n",
    "print(df.head(10))"
   ]
  },
  {
   "cell_type": "code",
   "execution_count": null,
   "id": "e0225392",
   "metadata": {},
   "outputs": [],
   "source": [
    "df=users['age'].dropna().reset_index(drop=True)\n",
    "print(df.head(10))\n",
    "import seaborn\n",
    "import matplotlib.pyplot as plt\n",
    "df=df[((df<90)&(df>10))]\n",
    "seaborn.boxplot(df)\n",
    "plt.savefig('out.jpg',dpi=2000) \n",
    "plt.show()\n",
    "\n"
   ]
  }
 ],
 "metadata": {
  "language_info": {
   "name": "python"
  }
 },
 "nbformat": 4,
 "nbformat_minor": 5
}
