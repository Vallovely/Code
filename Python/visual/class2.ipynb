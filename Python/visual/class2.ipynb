{
 "cells": [
  {
   "cell_type": "code",
   "execution_count": null,
   "id": "d5e74bd9",
   "metadata": {},
   "outputs": [],
   "source": [
    "\"\"\"\n",
    "第二讲 数据的准备\n",
    "获取 质量分析 预处理 \n",
    "\"\"\"\n",
    "#\n",
    "#\n",
    "#预处理 数据清洗 数据归约 数据集成 数据变换\n",
    "\"\"\"\n",
    "#数据清洗\n",
    "缺失值/异常值 \n",
    "均值插补 众数插补 中位数插补(离群值) 固定值 最邻近插补(时序特点) 回归方法(找寻与其他变量的关系) 插值法（线性，多项式）\n",
    "\n",
    "#数据集成\n",
    "内接 行交列并\n",
    "外接 行列均并\n",
    "\n",
    "#数据规约\n",
    "属性选择\n",
    "样本选择\n",
    "\n",
    "#数据变换\n",
    "1)数据标准化\n",
    "0-1标准化 Z-score标准化\n",
    "2)变量离散化[回归问题→分类问题]\n",
    "3)语义转换[男女→10]\n",
    "\"\"\""
   ]
  },
  {
   "cell_type": "code",
   "execution_count": null,
   "id": "976553bd",
   "metadata": {},
   "outputs": [],
   "source": [
    "!pip list #查看已安装库"
   ]
  },
  {
   "cell_type": "code",
   "execution_count": null,
   "id": "4d9eee07-19f8-417a-b18a-0f059ac696db",
   "metadata": {},
   "outputs": [],
   "source": [
    "\"\"\"\n",
    "sklearn查看数据集\n",
    "\"\"\""
   ]
  },
  {
   "cell_type": "code",
   "execution_count": null,
   "id": "d4569930",
   "metadata": {},
   "outputs": [],
   "source": [
    "from sklearn.datasets import load_iris#导入iris数据集\n",
    "from sklearn.preprocessing import MinMaxScaler\n",
    "from sklearn.preprocessing import Binarizer\n",
    "from numpy import vstack, array, nan\n",
    "from sklearn.impute import KNNImputer\n",
    "imp=KNNImputer()\n",
    "iris = load_iris()\n",
    "bi_data=Binarizer(threshold=3).fit_transform(iris.data)\n",
    "std_data=MinMaxScaler().fit_transform(iris.data)\n",
    "#print(iris.data,type(iris.data))#查看特征矩阵 花瓣和花萼长宽\n",
    "print(bi_data)#二值化后的矩阵\n",
    "#print(std_data)#标准化后的矩阵\n",
    "#print(iris.target)#查看目标向量 类别语义转换位类型 \n",
    "temp = vstack((bi_data, array([nan, nan, nan, nan])))\n",
    "print(temp)\n",
    "imp.fit_transform(temp)"
   ]
  },
  {
   "cell_type": "code",
   "execution_count": null,
   "id": "c8508870-4006-4ea2-a0ad-8153c3296f55",
   "metadata": {},
   "outputs": [],
   "source": [
    "\"\"\"\n",
    "pandas查看数据集\n",
    "\"\"\""
   ]
  },
  {
   "cell_type": "code",
   "execution_count": null,
   "id": "ac0d8342",
   "metadata": {},
   "outputs": [],
   "source": [
    "import pandas\n",
    "import seaborn\n",
    "import matplotlib.pyplot as plt\n",
    "users=pandas.read_csv(\"train_users.csv\")"
   ]
  },
  {
   "cell_type": "code",
   "execution_count": null,
   "id": "2ea2eb66",
   "metadata": {
    "scrolled": true
   },
   "outputs": [],
   "source": [
    "users.head(4)"
   ]
  },
  {
   "cell_type": "code",
   "execution_count": null,
   "id": "7395f6d6",
   "metadata": {},
   "outputs": [],
   "source": [
    "users.tail()"
   ]
  },
  {
   "cell_type": "code",
   "execution_count": null,
   "id": "3d161740",
   "metadata": {},
   "outputs": [],
   "source": [
    "users.describe()"
   ]
  },
  {
   "cell_type": "code",
   "execution_count": null,
   "id": "9def64db",
   "metadata": {},
   "outputs": [],
   "source": [
    "users.shape"
   ]
  },
  {
   "cell_type": "code",
   "execution_count": null,
   "id": "dc010a97",
   "metadata": {},
   "outputs": [],
   "source": [
    "users.loc[0:3,'age'] #.loc[:]是左闭右闭"
   ]
  },
  {
   "cell_type": "code",
   "execution_count": null,
   "id": "8c08a86b",
   "metadata": {},
   "outputs": [],
   "source": [
    "users['id']"
   ]
  },
  {
   "cell_type": "code",
   "execution_count": null,
   "id": "d99c2b52",
   "metadata": {},
   "outputs": [],
   "source": [
    "users['age']"
   ]
  },
  {
   "cell_type": "code",
   "execution_count": null,
   "id": "a4727af7-f7c4-4720-9e32-90639429da3c",
   "metadata": {},
   "outputs": [],
   "source": [
    "\"\"\"\n",
    "缺失值处理 删除/填补\n",
    "\"\"\""
   ]
  },
  {
   "cell_type": "code",
   "execution_count": null,
   "id": "ce514a33",
   "metadata": {},
   "outputs": [],
   "source": [
    "df=users['age'].dropna().reset_index(drop=True)#删除缺失数据\n",
    "print(df.head(10))"
   ]
  },
  {
   "cell_type": "code",
   "execution_count": null,
   "id": "723794ae-130c-46fe-b04a-82faf9e5678c",
   "metadata": {},
   "outputs": [],
   "source": [
    "df1=users['age'].fillna(users['age'].mean())#用均值填补\n",
    "print(df1.head(10))"
   ]
  },
  {
   "cell_type": "code",
   "execution_count": null,
   "id": "14fde030-765e-4aa1-bbdb-baabacabeda5",
   "metadata": {},
   "outputs": [],
   "source": [
    "df2=users['age'].fillna(users['age'].median()) #用中位数填补\n",
    "print(df2.head(10))"
   ]
  },
  {
   "cell_type": "code",
   "execution_count": null,
   "id": "e0225392",
   "metadata": {},
   "outputs": [],
   "source": [
    "def Plt(Df):\n",
    "    Df=Df[((Df<90)&(Df>10))]\n",
    "    seaborn.boxplot(Df)\n",
    "    plt.savefig('out%d.jpg'%(a),dpi=1000) \n",
    "    plt.show()\n",
    "    return\n",
    "Plt(df)\n",
    "Plt(df1)\n",
    "Plt(df2)"
   ]
  },
  {
   "cell_type": "code",
   "execution_count": null,
   "id": "54f2063e-0931-439e-addb-72d16e89c75d",
   "metadata": {},
   "outputs": [
    {
     "name": "stdout",
     "output_type": "stream",
     "text": [
      "   id col1\n",
      "0   1    a\n",
      "1   2    b\n",
      "2   3    c\n",
      "-------------------\n",
      "   id col2 col3\n",
      "0   4    d    e\n",
      "1   3    e    d\n",
      "-------------------\n",
      "   id col4 col3\n",
      "0   4    g    d\n",
      "1   3    h    f\n"
     ]
    }
   ],
   "source": [
    "# 内连接\n",
    "import pandas as pd\n",
    "df1=pd.DataFrame({'id':[1,2,3],\n",
    "                'col1':['a','b','c']})\n",
    "df2=pd.DataFrame({'id':[4,3],\n",
    "                 'col2':['d','e'],\n",
    "                 'col3':['e','d']})\n",
    "df3=pd.DataFrame({'id':[4,3],\n",
    "                  'col4':['g','h'],\n",
    "                  'col3':['d','f']})\n",
    "print(df1)   #直接输入df1也可以，三个表要分开输出\n",
    "print('-------------------')\n",
    "print(df2)\n",
    "print('-------------------')\n",
    "print(df3)\n"
   ]
  },
  {
   "cell_type": "code",
   "execution_count": 42,
   "id": "8ae1ca7a-fd95-43ad-a6b7-f85c5acafbf8",
   "metadata": {},
   "outputs": [
    {
     "data": {
      "text/html": [
       "<div>\n",
       "<style scoped>\n",
       "    .dataframe tbody tr th:only-of-type {\n",
       "        vertical-align: middle;\n",
       "    }\n",
       "\n",
       "    .dataframe tbody tr th {\n",
       "        vertical-align: top;\n",
       "    }\n",
       "\n",
       "    .dataframe thead th {\n",
       "        text-align: right;\n",
       "    }\n",
       "</style>\n",
       "<table border=\"1\" class=\"dataframe\">\n",
       "  <thead>\n",
       "    <tr style=\"text-align: right;\">\n",
       "      <th></th>\n",
       "      <th>id</th>\n",
       "      <th>col1</th>\n",
       "      <th>col2</th>\n",
       "      <th>col3</th>\n",
       "    </tr>\n",
       "  </thead>\n",
       "  <tbody>\n",
       "    <tr>\n",
       "      <th>0</th>\n",
       "      <td>3</td>\n",
       "      <td>c</td>\n",
       "      <td>e</td>\n",
       "      <td>d</td>\n",
       "    </tr>\n",
       "  </tbody>\n",
       "</table>\n",
       "</div>"
      ],
      "text/plain": [
       "   id col1 col2 col3\n",
       "0   3    c    e    d"
      ]
     },
     "execution_count": 42,
     "metadata": {},
     "output_type": "execute_result"
    }
   ],
   "source": [
    "df1.merge(df2,how='inner',on='id') #内连接"
   ]
  },
  {
   "cell_type": "code",
   "execution_count": 47,
   "id": "51017506-6a89-4c85-b007-e7970fe2bfac",
   "metadata": {},
   "outputs": [
    {
     "data": {
      "text/html": [
       "<div>\n",
       "<style scoped>\n",
       "    .dataframe tbody tr th:only-of-type {\n",
       "        vertical-align: middle;\n",
       "    }\n",
       "\n",
       "    .dataframe tbody tr th {\n",
       "        vertical-align: top;\n",
       "    }\n",
       "\n",
       "    .dataframe thead th {\n",
       "        text-align: right;\n",
       "    }\n",
       "</style>\n",
       "<table border=\"1\" class=\"dataframe\">\n",
       "  <thead>\n",
       "    <tr style=\"text-align: right;\">\n",
       "      <th></th>\n",
       "      <th>id</th>\n",
       "      <th>col1</th>\n",
       "      <th>col2</th>\n",
       "      <th>col3</th>\n",
       "    </tr>\n",
       "  </thead>\n",
       "  <tbody>\n",
       "    <tr>\n",
       "      <th>0</th>\n",
       "      <td>1</td>\n",
       "      <td>a</td>\n",
       "      <td>NaN</td>\n",
       "      <td>NaN</td>\n",
       "    </tr>\n",
       "    <tr>\n",
       "      <th>1</th>\n",
       "      <td>2</td>\n",
       "      <td>b</td>\n",
       "      <td>NaN</td>\n",
       "      <td>NaN</td>\n",
       "    </tr>\n",
       "    <tr>\n",
       "      <th>2</th>\n",
       "      <td>3</td>\n",
       "      <td>c</td>\n",
       "      <td>e</td>\n",
       "      <td>d</td>\n",
       "    </tr>\n",
       "  </tbody>\n",
       "</table>\n",
       "</div>"
      ],
      "text/plain": [
       "   id col1 col2 col3\n",
       "0   1    a  NaN  NaN\n",
       "1   2    b  NaN  NaN\n",
       "2   3    c    e    d"
      ]
     },
     "execution_count": 47,
     "metadata": {},
     "output_type": "execute_result"
    }
   ],
   "source": [
    "df1.merge(df2,how='left',on='id') #左连接"
   ]
  },
  {
   "cell_type": "code",
   "execution_count": 45,
   "id": "91af2107-d447-4fe9-b9bb-add3cf2443dd",
   "metadata": {},
   "outputs": [
    {
     "data": {
      "text/html": [
       "<div>\n",
       "<style scoped>\n",
       "    .dataframe tbody tr th:only-of-type {\n",
       "        vertical-align: middle;\n",
       "    }\n",
       "\n",
       "    .dataframe tbody tr th {\n",
       "        vertical-align: top;\n",
       "    }\n",
       "\n",
       "    .dataframe thead th {\n",
       "        text-align: right;\n",
       "    }\n",
       "</style>\n",
       "<table border=\"1\" class=\"dataframe\">\n",
       "  <thead>\n",
       "    <tr style=\"text-align: right;\">\n",
       "      <th></th>\n",
       "      <th>id</th>\n",
       "      <th>col1</th>\n",
       "      <th>col2</th>\n",
       "      <th>col3</th>\n",
       "    </tr>\n",
       "  </thead>\n",
       "  <tbody>\n",
       "    <tr>\n",
       "      <th>0</th>\n",
       "      <td>4</td>\n",
       "      <td>NaN</td>\n",
       "      <td>d</td>\n",
       "      <td>e</td>\n",
       "    </tr>\n",
       "    <tr>\n",
       "      <th>1</th>\n",
       "      <td>3</td>\n",
       "      <td>c</td>\n",
       "      <td>e</td>\n",
       "      <td>d</td>\n",
       "    </tr>\n",
       "  </tbody>\n",
       "</table>\n",
       "</div>"
      ],
      "text/plain": [
       "   id col1 col2 col3\n",
       "0   4  NaN    d    e\n",
       "1   3    c    e    d"
      ]
     },
     "execution_count": 45,
     "metadata": {},
     "output_type": "execute_result"
    }
   ],
   "source": [
    "df1.merge(df2,how='right',on='id')"
   ]
  },
  {
   "cell_type": "code",
   "execution_count": 48,
   "id": "a2e51842-7639-4d40-a411-3d3fe2678036",
   "metadata": {},
   "outputs": [
    {
     "data": {
      "text/html": [
       "<div>\n",
       "<style scoped>\n",
       "    .dataframe tbody tr th:only-of-type {\n",
       "        vertical-align: middle;\n",
       "    }\n",
       "\n",
       "    .dataframe tbody tr th {\n",
       "        vertical-align: top;\n",
       "    }\n",
       "\n",
       "    .dataframe thead th {\n",
       "        text-align: right;\n",
       "    }\n",
       "</style>\n",
       "<table border=\"1\" class=\"dataframe\">\n",
       "  <thead>\n",
       "    <tr style=\"text-align: right;\">\n",
       "      <th></th>\n",
       "      <th>id</th>\n",
       "      <th>col1</th>\n",
       "      <th>col2</th>\n",
       "      <th>col3</th>\n",
       "    </tr>\n",
       "  </thead>\n",
       "  <tbody>\n",
       "    <tr>\n",
       "      <th>0</th>\n",
       "      <td>1</td>\n",
       "      <td>a</td>\n",
       "      <td>NaN</td>\n",
       "      <td>NaN</td>\n",
       "    </tr>\n",
       "    <tr>\n",
       "      <th>1</th>\n",
       "      <td>2</td>\n",
       "      <td>b</td>\n",
       "      <td>NaN</td>\n",
       "      <td>NaN</td>\n",
       "    </tr>\n",
       "    <tr>\n",
       "      <th>2</th>\n",
       "      <td>3</td>\n",
       "      <td>c</td>\n",
       "      <td>e</td>\n",
       "      <td>d</td>\n",
       "    </tr>\n",
       "    <tr>\n",
       "      <th>3</th>\n",
       "      <td>4</td>\n",
       "      <td>NaN</td>\n",
       "      <td>d</td>\n",
       "      <td>e</td>\n",
       "    </tr>\n",
       "  </tbody>\n",
       "</table>\n",
       "</div>"
      ],
      "text/plain": [
       "   id col1 col2 col3\n",
       "0   1    a  NaN  NaN\n",
       "1   2    b  NaN  NaN\n",
       "2   3    c    e    d\n",
       "3   4  NaN    d    e"
      ]
     },
     "execution_count": 48,
     "metadata": {},
     "output_type": "execute_result"
    }
   ],
   "source": [
    "df1.merge(df2,how='outer',on='id')"
   ]
  },
  {
   "cell_type": "code",
   "execution_count": 49,
   "id": "efa728b2-44f7-494b-86bf-6e540d1b4c74",
   "metadata": {},
   "outputs": [
    {
     "name": "stdout",
     "output_type": "stream",
     "text": [
      "   id1 col1\n",
      "1    1    a\n",
      "2    2    b\n",
      "3    3    c\n",
      "------------\n",
      "   id2 col2\n",
      "1    1   aa\n",
      "3    3   bb\n",
      "2    2   cc\n",
      "   id1 col1  id2 col2\n",
      "1    1    a    1   aa\n",
      "2    2    b    2   cc\n",
      "3    3    c    3   bb\n",
      "---------------------\n",
      "   id1 col1  id2 col2\n",
      "1    1    a    1   aa\n",
      "2    2    b    2   cc\n",
      "3    3    c    3   bb\n"
     ]
    }
   ],
   "source": [
    "\"\"\"\n",
    "横向合并\n",
    "\"\"\"\n",
    "import pandas as pd \n",
    "df1=pd.DataFrame({'id1':[1,2,3],\n",
    "                  'col1':['a','b','c']},\n",
    "                 index=[1,2,3]\n",
    "                 )\n",
    "df2=pd.DataFrame({'id2':[1,3,2],\n",
    "                  'col2':['aa','bb','cc']},\n",
    "                 index=[1,3,2]\n",
    "                 )\n",
    "print(df1)\n",
    "print('------------')\n",
    "print(df2)\n",
    "# df1的索引为 1，2，3， df2的索引为 1，3，2，索引行会一一对应\n",
    "# axis=1，横向连接（增加/减少列【列操作】）\n",
    "# axis=0，纵向连接（增加/减少行【行操作】）\n",
    "\n",
    "print(pd.concat([df1,df2],axis=1))\n",
    "print('---------------------')\n",
    "print(df1.join(df2))\n"
   ]
  },
  {
   "cell_type": "code",
   "execution_count": 57,
   "id": "260f2ea8-8ffd-4fa1-8b06-7b77e44d5812",
   "metadata": {},
   "outputs": [
    {
     "name": "stdout",
     "output_type": "stream",
     "text": [
      "   id col\n",
      "0   1   a\n",
      "1   1   a\n",
      "2   1   b\n",
      "3   2   c\n",
      "4   3   v\n",
      "5   4   e\n",
      "6   6   q\n",
      "---------\n",
      "   id col\n",
      "0   1   x\n",
      "1   2   y\n",
      "2   3   z\n",
      "3   3   v\n",
      "4   5   w\n"
     ]
    },
    {
     "data": {
      "text/html": [
       "<div>\n",
       "<style scoped>\n",
       "    .dataframe tbody tr th:only-of-type {\n",
       "        vertical-align: middle;\n",
       "    }\n",
       "\n",
       "    .dataframe tbody tr th {\n",
       "        vertical-align: top;\n",
       "    }\n",
       "\n",
       "    .dataframe thead th {\n",
       "        text-align: right;\n",
       "    }\n",
       "</style>\n",
       "<table border=\"1\" class=\"dataframe\">\n",
       "  <thead>\n",
       "    <tr style=\"text-align: right;\">\n",
       "      <th></th>\n",
       "      <th>id</th>\n",
       "      <th>col</th>\n",
       "    </tr>\n",
       "  </thead>\n",
       "  <tbody>\n",
       "    <tr>\n",
       "      <th>0</th>\n",
       "      <td>1</td>\n",
       "      <td>a</td>\n",
       "    </tr>\n",
       "    <tr>\n",
       "      <th>1</th>\n",
       "      <td>1</td>\n",
       "      <td>b</td>\n",
       "    </tr>\n",
       "    <tr>\n",
       "      <th>2</th>\n",
       "      <td>2</td>\n",
       "      <td>c</td>\n",
       "    </tr>\n",
       "    <tr>\n",
       "      <th>3</th>\n",
       "      <td>3</td>\n",
       "      <td>v</td>\n",
       "    </tr>\n",
       "    <tr>\n",
       "      <th>4</th>\n",
       "      <td>4</td>\n",
       "      <td>e</td>\n",
       "    </tr>\n",
       "    <tr>\n",
       "      <th>5</th>\n",
       "      <td>6</td>\n",
       "      <td>q</td>\n",
       "    </tr>\n",
       "    <tr>\n",
       "      <th>6</th>\n",
       "      <td>1</td>\n",
       "      <td>x</td>\n",
       "    </tr>\n",
       "    <tr>\n",
       "      <th>7</th>\n",
       "      <td>2</td>\n",
       "      <td>y</td>\n",
       "    </tr>\n",
       "    <tr>\n",
       "      <th>8</th>\n",
       "      <td>3</td>\n",
       "      <td>z</td>\n",
       "    </tr>\n",
       "    <tr>\n",
       "      <th>9</th>\n",
       "      <td>5</td>\n",
       "      <td>w</td>\n",
       "    </tr>\n",
       "  </tbody>\n",
       "</table>\n",
       "</div>"
      ],
      "text/plain": [
       "   id col\n",
       "0   1   a\n",
       "1   1   b\n",
       "2   2   c\n",
       "3   3   v\n",
       "4   4   e\n",
       "5   6   q\n",
       "6   1   x\n",
       "7   2   y\n",
       "8   3   z\n",
       "9   5   w"
      ]
     },
     "execution_count": 57,
     "metadata": {},
     "output_type": "execute_result"
    }
   ],
   "source": [
    "\"\"\"\n",
    "纵向合并\n",
    "\"\"\"\n",
    "df1=pd.DataFrame({'id':[1,1,1,2,3,4,6],\n",
    "                'col':['a','a','b','c','v','e','q']})\n",
    "df2=pd.DataFrame({'id':[1,2,3,3,5],\n",
    "                'col':['x','y','z','v','w']})\n",
    "print(df1)\n",
    "print('---------')\n",
    "print(df2)\n",
    "# ignore_index=True，表示忽略 dfl 与df2的原先的行索引，合并并重新排列索引，axis=0，表示纵向合并，是行操作。\n",
    "pd.concat([df1,df2],ignore_index=True,axis=0)\n",
    "df4=pd.concat([df1,df2],ignore_index=True).drop_duplicates().reset_index(drop=True)\n",
    "df4"
   ]
  },
  {
   "cell_type": "code",
   "execution_count": null,
   "id": "1e6031ab-7036-4f4f-b6e4-abd72640618d",
   "metadata": {},
   "outputs": [],
   "source": []
  }
 ],
 "metadata": {
  "kernelspec": {
   "display_name": "Python 3 (ipykernel)",
   "language": "python",
   "name": "python3"
  },
  "language_info": {
   "codemirror_mode": {
    "name": "ipython",
    "version": 3
   },
   "file_extension": ".py",
   "mimetype": "text/x-python",
   "name": "python",
   "nbconvert_exporter": "python",
   "pygments_lexer": "ipython3",
   "version": "3.13.2"
  }
 },
 "nbformat": 4,
 "nbformat_minor": 5
}
